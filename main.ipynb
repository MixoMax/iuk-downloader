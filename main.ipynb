{
 "cells": [
  {
   "cell_type": "code",
   "execution_count": 1,
   "metadata": {},
   "outputs": [],
   "source": [
    "import requests\n",
    "import subprocess\n",
    "import bs4"
   ]
  },
  {
   "cell_type": "code",
   "execution_count": 3,
   "metadata": {},
   "outputs": [],
   "source": [
    "url = \"https://iuk.one/Rechnernetze.html\"\n",
    "response = requests.get(url)"
   ]
  },
  {
   "cell_type": "code",
   "execution_count": 4,
   "metadata": {},
   "outputs": [],
   "source": [
    "soup = bs4.BeautifulSoup(response.text, \"html.parser\")"
   ]
  },
  {
   "cell_type": "code",
   "execution_count": 7,
   "metadata": {},
   "outputs": [
    {
     "name": "stdout",
     "output_type": "stream",
     "text": [
      "['https://youtu.be/92sT4vIjzRk', 'https://www.youtube.com/watch?v=OW1OieHCrUE', 'https://youtu.be/E2w00THJmpU', 'https://youtu.be/bITBA418oz4', 'https://youtu.be/i_web97JzEQ', 'https://www.youtube.com/watch?v=QME1iUzLJoM', 'https://youtu.be/2O_YWygr928', 'https://youtu.be/CRPnV0-JK0Q', 'https://youtu.be/ZoPXMET3QDs', 'https://youtu.be/XiXenOARalo', 'https://youtu.be/sqKbKdgETQk', 'https://www.youtube.com/watch?v=f9RB_zDWHfE&list=PLZE9cTiAcjLTvvIqjZjXif7qNYzs-INPM', 'https://youtu.be/6upoaM5Q_84', 'https://youtu.be/aTDL70FVets', 'https://youtu.be/zFqfDbe2zww', 'https://youtu.be/6dvzJDPwXlc']\n"
     ]
    }
   ],
   "source": [
    "# find all a tags\n",
    "a_tags = soup.find_all(\"a\")\n",
    "links = []\n",
    "for tag in a_tags:\n",
    "    link = tag.get(\"href\")\n",
    "    if link:\n",
    "        links.append(link)\n",
    "\n",
    "# only keep links that contain \"youtu\" so all youtube.com / .de\n",
    "youtube_links = [link for link in links if \"youtu\" in link]\n",
    "print(youtube_links)"
   ]
  },
  {
   "cell_type": "code",
   "execution_count": 8,
   "metadata": {},
   "outputs": [],
   "source": [
    "for link in youtube_links:\n",
    "    subprocess.run([\"yt-dlp\", link])"
   ]
  }
 ],
 "metadata": {
  "kernelspec": {
   "display_name": "base",
   "language": "python",
   "name": "python3"
  },
  "language_info": {
   "codemirror_mode": {
    "name": "ipython",
    "version": 3
   },
   "file_extension": ".py",
   "mimetype": "text/x-python",
   "name": "python",
   "nbconvert_exporter": "python",
   "pygments_lexer": "ipython3",
   "version": "3.12.3"
  }
 },
 "nbformat": 4,
 "nbformat_minor": 2
}
